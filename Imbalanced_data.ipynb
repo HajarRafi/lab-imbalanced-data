{
 "cells": [
  {
   "cell_type": "code",
   "execution_count": 2,
   "id": "46bbd9fd",
   "metadata": {},
   "outputs": [],
   "source": [
    "import pandas as pd\n",
    "import numpy as np\n",
    "pd.set_option('display.max_columns', None)\n",
    "import matplotlib.pyplot as plt\n",
    "import seaborn as sns\n",
    "%matplotlib inline\n",
    "from sklearn.preprocessing import StandardScaler\n",
    "from sklearn.model_selection import train_test_split\n",
    "from sklearn.linear_model import LogisticRegression\n",
    "from sklearn.metrics import accuracy_score\n",
    "from sklearn.metrics import confusion_matrix\n",
    "from sklearn.metrics import plot_confusion_matrix\n",
    "from sklearn.metrics import classification_report\n",
    "from sklearn.metrics import precision_score, recall_score, f1_score\n",
    "from imblearn.under_sampling import RandomUnderSampler\n",
    "from imblearn.under_sampling import TomekLinks\n",
    "from imblearn.over_sampling import RandomOverSampler\n",
    "from imblearn.over_sampling import SMOTE\n",
    "import warnings\n",
    "warnings.filterwarnings('ignore')"
   ]
  },
  {
   "cell_type": "markdown",
   "id": "ca70f5a7",
   "metadata": {},
   "source": [
    "#### 1. Load the dataset and explore the variables."
   ]
  },
  {
   "cell_type": "code",
   "execution_count": 3,
   "id": "7fbf135d",
   "metadata": {},
   "outputs": [],
   "source": [
    "data = pd.read_csv('files_for_lab/customer_churn.csv')"
   ]
  },
  {
   "cell_type": "code",
   "execution_count": 4,
   "id": "ac841e76",
   "metadata": {},
   "outputs": [
    {
     "data": {
      "text/html": [
       "<div>\n",
       "<style scoped>\n",
       "    .dataframe tbody tr th:only-of-type {\n",
       "        vertical-align: middle;\n",
       "    }\n",
       "\n",
       "    .dataframe tbody tr th {\n",
       "        vertical-align: top;\n",
       "    }\n",
       "\n",
       "    .dataframe thead th {\n",
       "        text-align: right;\n",
       "    }\n",
       "</style>\n",
       "<table border=\"1\" class=\"dataframe\">\n",
       "  <thead>\n",
       "    <tr style=\"text-align: right;\">\n",
       "      <th></th>\n",
       "      <th>customerID</th>\n",
       "      <th>gender</th>\n",
       "      <th>SeniorCitizen</th>\n",
       "      <th>Partner</th>\n",
       "      <th>Dependents</th>\n",
       "      <th>tenure</th>\n",
       "      <th>PhoneService</th>\n",
       "      <th>MultipleLines</th>\n",
       "      <th>InternetService</th>\n",
       "      <th>OnlineSecurity</th>\n",
       "      <th>OnlineBackup</th>\n",
       "      <th>DeviceProtection</th>\n",
       "      <th>TechSupport</th>\n",
       "      <th>StreamingTV</th>\n",
       "      <th>StreamingMovies</th>\n",
       "      <th>Contract</th>\n",
       "      <th>PaperlessBilling</th>\n",
       "      <th>PaymentMethod</th>\n",
       "      <th>MonthlyCharges</th>\n",
       "      <th>TotalCharges</th>\n",
       "      <th>Churn</th>\n",
       "    </tr>\n",
       "  </thead>\n",
       "  <tbody>\n",
       "    <tr>\n",
       "      <th>0</th>\n",
       "      <td>7590-VHVEG</td>\n",
       "      <td>Female</td>\n",
       "      <td>0</td>\n",
       "      <td>Yes</td>\n",
       "      <td>No</td>\n",
       "      <td>1</td>\n",
       "      <td>No</td>\n",
       "      <td>No phone service</td>\n",
       "      <td>DSL</td>\n",
       "      <td>No</td>\n",
       "      <td>Yes</td>\n",
       "      <td>No</td>\n",
       "      <td>No</td>\n",
       "      <td>No</td>\n",
       "      <td>No</td>\n",
       "      <td>Month-to-month</td>\n",
       "      <td>Yes</td>\n",
       "      <td>Electronic check</td>\n",
       "      <td>29.85</td>\n",
       "      <td>29.85</td>\n",
       "      <td>No</td>\n",
       "    </tr>\n",
       "    <tr>\n",
       "      <th>1</th>\n",
       "      <td>5575-GNVDE</td>\n",
       "      <td>Male</td>\n",
       "      <td>0</td>\n",
       "      <td>No</td>\n",
       "      <td>No</td>\n",
       "      <td>34</td>\n",
       "      <td>Yes</td>\n",
       "      <td>No</td>\n",
       "      <td>DSL</td>\n",
       "      <td>Yes</td>\n",
       "      <td>No</td>\n",
       "      <td>Yes</td>\n",
       "      <td>No</td>\n",
       "      <td>No</td>\n",
       "      <td>No</td>\n",
       "      <td>One year</td>\n",
       "      <td>No</td>\n",
       "      <td>Mailed check</td>\n",
       "      <td>56.95</td>\n",
       "      <td>1889.5</td>\n",
       "      <td>No</td>\n",
       "    </tr>\n",
       "    <tr>\n",
       "      <th>2</th>\n",
       "      <td>3668-QPYBK</td>\n",
       "      <td>Male</td>\n",
       "      <td>0</td>\n",
       "      <td>No</td>\n",
       "      <td>No</td>\n",
       "      <td>2</td>\n",
       "      <td>Yes</td>\n",
       "      <td>No</td>\n",
       "      <td>DSL</td>\n",
       "      <td>Yes</td>\n",
       "      <td>Yes</td>\n",
       "      <td>No</td>\n",
       "      <td>No</td>\n",
       "      <td>No</td>\n",
       "      <td>No</td>\n",
       "      <td>Month-to-month</td>\n",
       "      <td>Yes</td>\n",
       "      <td>Mailed check</td>\n",
       "      <td>53.85</td>\n",
       "      <td>108.15</td>\n",
       "      <td>Yes</td>\n",
       "    </tr>\n",
       "    <tr>\n",
       "      <th>3</th>\n",
       "      <td>7795-CFOCW</td>\n",
       "      <td>Male</td>\n",
       "      <td>0</td>\n",
       "      <td>No</td>\n",
       "      <td>No</td>\n",
       "      <td>45</td>\n",
       "      <td>No</td>\n",
       "      <td>No phone service</td>\n",
       "      <td>DSL</td>\n",
       "      <td>Yes</td>\n",
       "      <td>No</td>\n",
       "      <td>Yes</td>\n",
       "      <td>Yes</td>\n",
       "      <td>No</td>\n",
       "      <td>No</td>\n",
       "      <td>One year</td>\n",
       "      <td>No</td>\n",
       "      <td>Bank transfer (automatic)</td>\n",
       "      <td>42.30</td>\n",
       "      <td>1840.75</td>\n",
       "      <td>No</td>\n",
       "    </tr>\n",
       "    <tr>\n",
       "      <th>4</th>\n",
       "      <td>9237-HQITU</td>\n",
       "      <td>Female</td>\n",
       "      <td>0</td>\n",
       "      <td>No</td>\n",
       "      <td>No</td>\n",
       "      <td>2</td>\n",
       "      <td>Yes</td>\n",
       "      <td>No</td>\n",
       "      <td>Fiber optic</td>\n",
       "      <td>No</td>\n",
       "      <td>No</td>\n",
       "      <td>No</td>\n",
       "      <td>No</td>\n",
       "      <td>No</td>\n",
       "      <td>No</td>\n",
       "      <td>Month-to-month</td>\n",
       "      <td>Yes</td>\n",
       "      <td>Electronic check</td>\n",
       "      <td>70.70</td>\n",
       "      <td>151.65</td>\n",
       "      <td>Yes</td>\n",
       "    </tr>\n",
       "  </tbody>\n",
       "</table>\n",
       "</div>"
      ],
      "text/plain": [
       "   customerID  gender  SeniorCitizen Partner Dependents  tenure PhoneService  \\\n",
       "0  7590-VHVEG  Female              0     Yes         No       1           No   \n",
       "1  5575-GNVDE    Male              0      No         No      34          Yes   \n",
       "2  3668-QPYBK    Male              0      No         No       2          Yes   \n",
       "3  7795-CFOCW    Male              0      No         No      45           No   \n",
       "4  9237-HQITU  Female              0      No         No       2          Yes   \n",
       "\n",
       "      MultipleLines InternetService OnlineSecurity OnlineBackup  \\\n",
       "0  No phone service             DSL             No          Yes   \n",
       "1                No             DSL            Yes           No   \n",
       "2                No             DSL            Yes          Yes   \n",
       "3  No phone service             DSL            Yes           No   \n",
       "4                No     Fiber optic             No           No   \n",
       "\n",
       "  DeviceProtection TechSupport StreamingTV StreamingMovies        Contract  \\\n",
       "0               No          No          No              No  Month-to-month   \n",
       "1              Yes          No          No              No        One year   \n",
       "2               No          No          No              No  Month-to-month   \n",
       "3              Yes         Yes          No              No        One year   \n",
       "4               No          No          No              No  Month-to-month   \n",
       "\n",
       "  PaperlessBilling              PaymentMethod  MonthlyCharges TotalCharges  \\\n",
       "0              Yes           Electronic check           29.85        29.85   \n",
       "1               No               Mailed check           56.95       1889.5   \n",
       "2              Yes               Mailed check           53.85       108.15   \n",
       "3               No  Bank transfer (automatic)           42.30      1840.75   \n",
       "4              Yes           Electronic check           70.70       151.65   \n",
       "\n",
       "  Churn  \n",
       "0    No  \n",
       "1    No  \n",
       "2   Yes  \n",
       "3    No  \n",
       "4   Yes  "
      ]
     },
     "execution_count": 4,
     "metadata": {},
     "output_type": "execute_result"
    }
   ],
   "source": [
    "data.head()"
   ]
  },
  {
   "cell_type": "code",
   "execution_count": 5,
   "id": "84b08dbb",
   "metadata": {},
   "outputs": [
    {
     "name": "stdout",
     "output_type": "stream",
     "text": [
      "<class 'pandas.core.frame.DataFrame'>\n",
      "RangeIndex: 7043 entries, 0 to 7042\n",
      "Data columns (total 21 columns):\n",
      " #   Column            Non-Null Count  Dtype  \n",
      "---  ------            --------------  -----  \n",
      " 0   customerID        7043 non-null   object \n",
      " 1   gender            7043 non-null   object \n",
      " 2   SeniorCitizen     7043 non-null   int64  \n",
      " 3   Partner           7043 non-null   object \n",
      " 4   Dependents        7043 non-null   object \n",
      " 5   tenure            7043 non-null   int64  \n",
      " 6   PhoneService      7043 non-null   object \n",
      " 7   MultipleLines     7043 non-null   object \n",
      " 8   InternetService   7043 non-null   object \n",
      " 9   OnlineSecurity    7043 non-null   object \n",
      " 10  OnlineBackup      7043 non-null   object \n",
      " 11  DeviceProtection  7043 non-null   object \n",
      " 12  TechSupport       7043 non-null   object \n",
      " 13  StreamingTV       7043 non-null   object \n",
      " 14  StreamingMovies   7043 non-null   object \n",
      " 15  Contract          7043 non-null   object \n",
      " 16  PaperlessBilling  7043 non-null   object \n",
      " 17  PaymentMethod     7043 non-null   object \n",
      " 18  MonthlyCharges    7043 non-null   float64\n",
      " 19  TotalCharges      7043 non-null   object \n",
      " 20  Churn             7043 non-null   object \n",
      "dtypes: float64(1), int64(2), object(18)\n",
      "memory usage: 1.1+ MB\n"
     ]
    }
   ],
   "source": [
    "data.info()"
   ]
  },
  {
   "cell_type": "code",
   "execution_count": 6,
   "id": "96499513",
   "metadata": {},
   "outputs": [],
   "source": [
    "data['SeniorCitizen'].value_counts()  #make the column categorical (only 2 values)\n",
    "data['SeniorCitizen'] = data['SeniorCitizen'].astype('object')"
   ]
  },
  {
   "cell_type": "code",
   "execution_count": 7,
   "id": "5af037e9",
   "metadata": {},
   "outputs": [
    {
     "data": {
      "text/plain": [
       "1     613\n",
       "72    362\n",
       "2     238\n",
       "3     200\n",
       "4     176\n",
       "     ... \n",
       "28     57\n",
       "39     56\n",
       "44     51\n",
       "36     50\n",
       "0      11\n",
       "Name: tenure, Length: 73, dtype: int64"
      ]
     },
     "execution_count": 7,
     "metadata": {},
     "output_type": "execute_result"
    }
   ],
   "source": [
    "data['tenure'].value_counts()"
   ]
  },
  {
   "cell_type": "code",
   "execution_count": 8,
   "id": "c54629ad",
   "metadata": {},
   "outputs": [
    {
     "data": {
      "text/plain": [
       "Male      3555\n",
       "Female    3488\n",
       "Name: gender, dtype: int64"
      ]
     },
     "execution_count": 8,
     "metadata": {},
     "output_type": "execute_result"
    }
   ],
   "source": [
    "data['gender'].value_counts()"
   ]
  },
  {
   "cell_type": "code",
   "execution_count": 9,
   "id": "bbcfc3a8",
   "metadata": {},
   "outputs": [
    {
     "data": {
      "text/plain": [
       "Electronic check             2365\n",
       "Mailed check                 1612\n",
       "Bank transfer (automatic)    1544\n",
       "Credit card (automatic)      1522\n",
       "Name: PaymentMethod, dtype: int64"
      ]
     },
     "execution_count": 9,
     "metadata": {},
     "output_type": "execute_result"
    }
   ],
   "source": [
    "data['PaymentMethod'].value_counts()"
   ]
  },
  {
   "cell_type": "code",
   "execution_count": 10,
   "id": "5e73db92",
   "metadata": {},
   "outputs": [
    {
     "data": {
      "text/plain": [
       "Month-to-month    3875\n",
       "Two year          1695\n",
       "One year          1473\n",
       "Name: Contract, dtype: int64"
      ]
     },
     "execution_count": 10,
     "metadata": {},
     "output_type": "execute_result"
    }
   ],
   "source": [
    "data['Contract'].value_counts()"
   ]
  },
  {
   "cell_type": "code",
   "execution_count": 11,
   "id": "77e4d3a2",
   "metadata": {},
   "outputs": [
    {
     "data": {
      "text/plain": [
       "          11\n",
       "20.2      11\n",
       "19.75      9\n",
       "20.05      8\n",
       "19.9       8\n",
       "          ..\n",
       "6849.4     1\n",
       "692.35     1\n",
       "130.15     1\n",
       "3211.9     1\n",
       "6844.5     1\n",
       "Name: TotalCharges, Length: 6531, dtype: int64"
      ]
     },
     "execution_count": 11,
     "metadata": {},
     "output_type": "execute_result"
    }
   ],
   "source": [
    "data['TotalCharges'].value_counts() "
   ]
  },
  {
   "cell_type": "code",
   "execution_count": 12,
   "id": "8fbabd3b",
   "metadata": {},
   "outputs": [],
   "source": [
    "def clean_empty_values(col):\n",
    "    if col in ' ' or '':\n",
    "        return 0\n",
    "    else:\n",
    "        return col\n",
    "data['TotalCharges'] = list(map(clean_empty_values, data['TotalCharges']))"
   ]
  },
  {
   "cell_type": "code",
   "execution_count": 13,
   "id": "73cb2ad3",
   "metadata": {},
   "outputs": [],
   "source": [
    "#turn the values to numeric\n",
    "data['TotalCharges'] = data['TotalCharges'].astype('float')"
   ]
  },
  {
   "cell_type": "code",
   "execution_count": 14,
   "id": "9854eb69",
   "metadata": {},
   "outputs": [
    {
     "data": {
      "text/html": [
       "<div>\n",
       "<style scoped>\n",
       "    .dataframe tbody tr th:only-of-type {\n",
       "        vertical-align: middle;\n",
       "    }\n",
       "\n",
       "    .dataframe tbody tr th {\n",
       "        vertical-align: top;\n",
       "    }\n",
       "\n",
       "    .dataframe thead th {\n",
       "        text-align: right;\n",
       "    }\n",
       "</style>\n",
       "<table border=\"1\" class=\"dataframe\">\n",
       "  <thead>\n",
       "    <tr style=\"text-align: right;\">\n",
       "      <th></th>\n",
       "      <th>count</th>\n",
       "      <th>mean</th>\n",
       "      <th>std</th>\n",
       "      <th>min</th>\n",
       "      <th>25%</th>\n",
       "      <th>50%</th>\n",
       "      <th>75%</th>\n",
       "      <th>max</th>\n",
       "    </tr>\n",
       "  </thead>\n",
       "  <tbody>\n",
       "    <tr>\n",
       "      <th>tenure</th>\n",
       "      <td>7043.0</td>\n",
       "      <td>32.371149</td>\n",
       "      <td>24.559481</td>\n",
       "      <td>0.00</td>\n",
       "      <td>9.00</td>\n",
       "      <td>29.00</td>\n",
       "      <td>55.00</td>\n",
       "      <td>72.00</td>\n",
       "    </tr>\n",
       "    <tr>\n",
       "      <th>MonthlyCharges</th>\n",
       "      <td>7043.0</td>\n",
       "      <td>64.761692</td>\n",
       "      <td>30.090047</td>\n",
       "      <td>18.25</td>\n",
       "      <td>35.50</td>\n",
       "      <td>70.35</td>\n",
       "      <td>89.85</td>\n",
       "      <td>118.75</td>\n",
       "    </tr>\n",
       "    <tr>\n",
       "      <th>TotalCharges</th>\n",
       "      <td>7043.0</td>\n",
       "      <td>2279.734304</td>\n",
       "      <td>2266.794470</td>\n",
       "      <td>0.00</td>\n",
       "      <td>398.55</td>\n",
       "      <td>1394.55</td>\n",
       "      <td>3786.60</td>\n",
       "      <td>8684.80</td>\n",
       "    </tr>\n",
       "  </tbody>\n",
       "</table>\n",
       "</div>"
      ],
      "text/plain": [
       "                 count         mean          std    min     25%      50%  \\\n",
       "tenure          7043.0    32.371149    24.559481   0.00    9.00    29.00   \n",
       "MonthlyCharges  7043.0    64.761692    30.090047  18.25   35.50    70.35   \n",
       "TotalCharges    7043.0  2279.734304  2266.794470   0.00  398.55  1394.55   \n",
       "\n",
       "                    75%      max  \n",
       "tenure            55.00    72.00  \n",
       "MonthlyCharges    89.85   118.75  \n",
       "TotalCharges    3786.60  8684.80  "
      ]
     },
     "execution_count": 14,
     "metadata": {},
     "output_type": "execute_result"
    }
   ],
   "source": [
    "data.describe().T"
   ]
  },
  {
   "cell_type": "markdown",
   "id": "102e71ad",
   "metadata": {},
   "source": [
    "#### 2. We will try to predict variable Churn using a logistic regression on variables tenure, SeniorCitizen,MonthlyCharges.\n",
    "#### 3. Extract the target variable.\n",
    "#### 4. Extract the independent variables and scale them."
   ]
  },
  {
   "cell_type": "code",
   "execution_count": 15,
   "id": "d90aaa80",
   "metadata": {},
   "outputs": [
    {
     "data": {
      "text/plain": [
       "No     5174\n",
       "Yes    1869\n",
       "Name: Churn, dtype: int64"
      ]
     },
     "execution_count": 15,
     "metadata": {},
     "output_type": "execute_result"
    }
   ],
   "source": [
    "data['Churn'].value_counts()  #target is imbalanced"
   ]
  },
  {
   "cell_type": "code",
   "execution_count": 16,
   "id": "a71a90c0",
   "metadata": {},
   "outputs": [
    {
     "data": {
      "image/png": "[encoded data removed]",
      "text/plain": [
       "<Figure size 432x288 with 2 Axes>"
      ]
     },
     "metadata": {
      "needs_background": "light"
     },
     "output_type": "display_data"
    }
   ],
   "source": [
    "#check te corelation\n",
    "corr_matrix = data.corr(method = 'pearson')\n",
    "fig, ax = plt.subplots(figsize = (6, 4))\n",
    "ax = sns.heatmap(corr_matrix, annot = True)\n",
    "plt.show()\n",
    "#because of multicollinearity, don't include 'TotalCharges' to independent variables"
   ]
  },
  {
   "cell_type": "code",
   "execution_count": 17,
   "id": "89115759",
   "metadata": {},
   "outputs": [
    {
     "data": {
      "text/plain": [
       "<seaborn.axisgrid.FacetGrid at 0x7fda117ea760>"
      ]
     },
     "execution_count": 17,
     "metadata": {},
     "output_type": "execute_result"
    },
    {
     "data": {
      "image/png": "[encoded data removed]",
      "text/plain": [
       "<Figure size 477.125x360 with 1 Axes>"
      ]
     },
     "metadata": {
      "needs_background": "light"
     },
     "output_type": "display_data"
    }
   ],
   "source": [
    "#check the distribution of numerical values\n",
    "data_num = data[['tenure', 'MonthlyCharges']]\n",
    "sns.displot(data_num)  \n",
    "#aren't normally distributed, but it doesn't matter in that case"
   ]
  },
  {
   "cell_type": "code",
   "execution_count": 18,
   "id": "79541e9f",
   "metadata": {},
   "outputs": [
    {
     "data": {
      "text/plain": [
       "<seaborn.axisgrid.FacetGrid at 0x7fda1308d070>"
      ]
     },
     "execution_count": 18,
     "metadata": {},
     "output_type": "execute_result"
    },
    {
     "data": {
      "image/png": "[encoded data removed]",
      "text/plain": [
       "<Figure size 402.375x360 with 1 Axes>"
      ]
     },
     "metadata": {
      "needs_background": "light"
     },
     "output_type": "display_data"
    }
   ],
   "source": [
    "#standardize the data\n",
    "transformer = StandardScaler().fit(data_num)\n",
    "x_standardized = transformer.transform(data_num)\n",
    "x = pd.DataFrame(x_standardized)\n",
    "sns.displot(x)  "
   ]
  },
  {
   "cell_type": "code",
   "execution_count": 60,
   "id": "997a552e",
   "metadata": {},
   "outputs": [
    {
     "data": {
      "text/html": [
       "<div>\n",
       "<style scoped>\n",
       "    .dataframe tbody tr th:only-of-type {\n",
       "        vertical-align: middle;\n",
       "    }\n",
       "\n",
       "    .dataframe tbody tr th {\n",
       "        vertical-align: top;\n",
       "    }\n",
       "\n",
       "    .dataframe thead th {\n",
       "        text-align: right;\n",
       "    }\n",
       "</style>\n",
       "<table border=\"1\" class=\"dataframe\">\n",
       "  <thead>\n",
       "    <tr style=\"text-align: right;\">\n",
       "      <th></th>\n",
       "      <th>0</th>\n",
       "      <th>1</th>\n",
       "    </tr>\n",
       "  </thead>\n",
       "  <tbody>\n",
       "    <tr>\n",
       "      <th>0</th>\n",
       "      <td>1</td>\n",
       "      <td>0</td>\n",
       "    </tr>\n",
       "    <tr>\n",
       "      <th>1</th>\n",
       "      <td>1</td>\n",
       "      <td>0</td>\n",
       "    </tr>\n",
       "    <tr>\n",
       "      <th>2</th>\n",
       "      <td>1</td>\n",
       "      <td>0</td>\n",
       "    </tr>\n",
       "    <tr>\n",
       "      <th>3</th>\n",
       "      <td>1</td>\n",
       "      <td>0</td>\n",
       "    </tr>\n",
       "    <tr>\n",
       "      <th>4</th>\n",
       "      <td>1</td>\n",
       "      <td>0</td>\n",
       "    </tr>\n",
       "    <tr>\n",
       "      <th>...</th>\n",
       "      <td>...</td>\n",
       "      <td>...</td>\n",
       "    </tr>\n",
       "    <tr>\n",
       "      <th>7038</th>\n",
       "      <td>1</td>\n",
       "      <td>0</td>\n",
       "    </tr>\n",
       "    <tr>\n",
       "      <th>7039</th>\n",
       "      <td>1</td>\n",
       "      <td>0</td>\n",
       "    </tr>\n",
       "    <tr>\n",
       "      <th>7040</th>\n",
       "      <td>1</td>\n",
       "      <td>0</td>\n",
       "    </tr>\n",
       "    <tr>\n",
       "      <th>7041</th>\n",
       "      <td>0</td>\n",
       "      <td>1</td>\n",
       "    </tr>\n",
       "    <tr>\n",
       "      <th>7042</th>\n",
       "      <td>1</td>\n",
       "      <td>0</td>\n",
       "    </tr>\n",
       "  </tbody>\n",
       "</table>\n",
       "<p>7043 rows × 2 columns</p>\n",
       "</div>"
      ],
      "text/plain": [
       "      0  1\n",
       "0     1  0\n",
       "1     1  0\n",
       "2     1  0\n",
       "3     1  0\n",
       "4     1  0\n",
       "...  .. ..\n",
       "7038  1  0\n",
       "7039  1  0\n",
       "7040  1  0\n",
       "7041  0  1\n",
       "7042  1  0\n",
       "\n",
       "[7043 rows x 2 columns]"
      ]
     },
     "execution_count": 60,
     "metadata": {},
     "output_type": "execute_result"
    }
   ],
   "source": [
    "#encode categorical column with dummies\n",
    "categorical = pd.get_dummies(data['SeniorCitizen'])\n",
    "categorical"
   ]
  },
  {
   "cell_type": "markdown",
   "id": "2c43def2",
   "metadata": {},
   "source": [
    "#### 5. Build the logistic regression model. "
   ]
  },
  {
   "cell_type": "markdown",
   "id": "978ca808",
   "metadata": {},
   "source": [
    "#### 6. Evaluate the model."
   ]
  },
  {
   "cell_type": "markdown",
   "id": "112b60e7",
   "metadata": {},
   "source": [
    "## Prediction - Imbalanced Data "
   ]
  },
  {
   "cell_type": "code",
   "execution_count": 61,
   "id": "e2071fb9",
   "metadata": {},
   "outputs": [],
   "source": [
    "#set the target\n",
    "y = data['Churn']\n",
    "X = np.concatenate((x, categorical), axis = 1) \n",
    "#X = tenure, MonthlyCharges, SeniorCitizen"
   ]
  },
  {
   "cell_type": "code",
   "execution_count": 62,
   "id": "59c19f78",
   "metadata": {},
   "outputs": [
    {
     "data": {
      "text/plain": [
       "No     5174\n",
       "Yes    1869\n",
       "Name: Churn, dtype: int64"
      ]
     },
     "execution_count": 62,
     "metadata": {},
     "output_type": "execute_result"
    }
   ],
   "source": [
    "y.value_counts()"
   ]
  },
  {
   "cell_type": "code",
   "execution_count": 83,
   "id": "f7256bfa",
   "metadata": {},
   "outputs": [],
   "source": [
    "#split the data and predict for trained and tested data\n",
    "X_train, X_test, y_train, y_test = train_test_split(X, y, test_size = 0.2, random_state = 10)\n",
    "classification = LogisticRegression(random_state = 0, solver = 'lbfgs',\n",
    "                  multi_class = 'ovr').fit(X_train, y_train)\n",
    "y_train_predict = classification.predict(X_train)\n",
    "y_test_predict = classification.predict(X_test)"
   ]
  },
  {
   "cell_type": "code",
   "execution_count": 84,
   "id": "b7bdb674",
   "metadata": {},
   "outputs": [
    {
     "name": "stdout",
     "output_type": "stream",
     "text": [
      "Values of train set:\n",
      "No     4536\n",
      "Yes    1098\n",
      "dtype: int64\n",
      "\n",
      "Values of test set:\n",
      "No     1146\n",
      "Yes     263\n",
      "dtype: int64\n"
     ]
    }
   ],
   "source": [
    "print('Values of train set:')\n",
    "print(pd.Series(y_train_predict).value_counts())\n",
    "print('''\n",
    "Values of test set:''')\n",
    "print(pd.Series(y_test_predict).value_counts())"
   ]
  },
  {
   "cell_type": "code",
   "execution_count": 86,
   "id": "3c92954d",
   "metadata": {},
   "outputs": [
    {
     "name": "stdout",
     "output_type": "stream",
     "text": [
      "The accuracy of the model on train set is: 0.79 \n",
      "The accuracy of the model on test set is: 0.80 \n",
      "Confusion matrix on train set:\n"
     ]
    },
    {
     "data": {
      "image/png": "[encoded data removed]",
      "text/plain": [
       "<Figure size 432x288 with 2 Axes>"
      ]
     },
     "metadata": {
      "needs_background": "light"
     },
     "output_type": "display_data"
    },
    {
     "name": "stdout",
     "output_type": "stream",
     "text": [
      "Confusion matrix on test set:\n"
     ]
    },
    {
     "data": {
      "image/png": "[encoded data removed]",
      "text/plain": [
       "<Figure size 432x288 with 2 Axes>"
      ]
     },
     "metadata": {
      "needs_background": "light"
     },
     "output_type": "display_data"
    }
   ],
   "source": [
    "print(\"The accuracy of the model on train set is: %4.2f \" % accuracy_score(y_train, y_train_predict))\n",
    "print(\"The accuracy of the model on test set is: %4.2f \" % accuracy_score(y_test, y_test_predict))\n",
    "print('Confusion matrix on train set:')\n",
    "plot_confusion_matrix(classification, X_train, y_train, cmap='OrRd')\n",
    "plt.show() \n",
    "print('Confusion matrix on test set:')\n",
    "plot_confusion_matrix(classification, X_test, y_test)\n",
    "plt.show()"
   ]
  },
  {
   "cell_type": "code",
   "execution_count": 41,
   "id": "2396fb45",
   "metadata": {},
   "outputs": [
    {
     "name": "stdout",
     "output_type": "stream",
     "text": [
      "Precision scores are (train, test):\n",
      "0.65\n",
      "0.6\n",
      "Recall scores are (train, test):\n",
      "0.47\n",
      "0.46\n",
      "F1 scores are (train, test):\n",
      "0.54\n",
      "0.52\n"
     ]
    }
   ],
   "source": [
    "print('Precision scores are (train, test):')\n",
    "print(round(precision_score(y_train, y_train_predict, pos_label = 'Yes'), 2))\n",
    "print(round(precision_score(y_test, y_test_predict, pos_label = 'Yes'), 2))\n",
    "print('Recall scores are (train, test):')\n",
    "print(round(recall_score(y_train, y_train_predict, pos_label = 'Yes'), 2))\n",
    "print(round(recall_score(y_test, y_test_predict, pos_label = 'Yes'), 2))\n",
    "print('F1 scores are (train, test):')\n",
    "print(round(f1_score(y_train, y_train_predict, pos_label = 'Yes'), 2))\n",
    "print(round(f1_score(y_test, y_test_predict, pos_label = 'Yes'), 2))"
   ]
  },
  {
   "cell_type": "code",
   "execution_count": 31,
   "id": "efcc0c16",
   "metadata": {
    "scrolled": true
   },
   "outputs": [
    {
     "name": "stdout",
     "output_type": "stream",
     "text": [
      "              precision    recall  f1-score   support\n",
      "\n",
      "          No       0.82      0.91      0.86      4108\n",
      "         Yes       0.65      0.47      0.54      1526\n",
      "\n",
      "    accuracy                           0.79      5634\n",
      "   macro avg       0.74      0.69      0.70      5634\n",
      "weighted avg       0.77      0.79      0.78      5634\n",
      "\n",
      "              precision    recall  f1-score   support\n",
      "\n",
      "          No       0.84      0.90      0.87      1066\n",
      "         Yes       0.60      0.46      0.52       343\n",
      "\n",
      "    accuracy                           0.80      1409\n",
      "   macro avg       0.72      0.68      0.70      1409\n",
      "weighted avg       0.78      0.80      0.79      1409\n",
      "\n"
     ]
    }
   ],
   "source": [
    "print(classification_report(y_train, y_train_predict))\n",
    "print(classification_report(y_test, y_test_predict))"
   ]
  },
  {
   "cell_type": "markdown",
   "id": "2ca9ffff",
   "metadata": {},
   "source": [
    "## Prediction - Balanced Data "
   ]
  },
  {
   "cell_type": "markdown",
   "id": "7a879b6c",
   "metadata": {},
   "source": [
    "### Data Undersampling "
   ]
  },
  {
   "cell_type": "code",
   "execution_count": 43,
   "id": "c317839b",
   "metadata": {},
   "outputs": [
    {
     "data": {
      "text/plain": [
       "No     1869\n",
       "Yes    1869\n",
       "Name: Churn, dtype: int64"
      ]
     },
     "execution_count": 43,
     "metadata": {},
     "output_type": "execute_result"
    }
   ],
   "source": [
    "rus = RandomUnderSampler(random_state = 10)\n",
    "X_rus, Y_rus = rus.fit_resample(X, y)\n",
    "Y_rus.value_counts()"
   ]
  },
  {
   "cell_type": "code",
   "execution_count": 44,
   "id": "87c61d05",
   "metadata": {},
   "outputs": [],
   "source": [
    "X_train, X_test, y_train, y_test = train_test_split(X_rus, Y_rus, test_size = 0.2, random_state = 10)\n",
    "classification = LogisticRegression(random_state = 0, solver = 'lbfgs',\n",
    "                  multi_class = 'ovr').fit(X_train, y_train)\n",
    "y_train_predict = classification.predict(X_train)\n",
    "y_test_predict = classification.predict(X_test)"
   ]
  },
  {
   "cell_type": "code",
   "execution_count": 47,
   "id": "7a88ce79",
   "metadata": {},
   "outputs": [
    {
     "name": "stdout",
     "output_type": "stream",
     "text": [
      "Values of train set:\n",
      "Yes    1525\n",
      "No     1465\n",
      "dtype: int64\n",
      "\n",
      "Values of test set:\n",
      "Yes    387\n",
      "No     361\n",
      "dtype: int64\n"
     ]
    }
   ],
   "source": [
    "print('Values of train set:')\n",
    "print(pd.Series(y_train_predict).value_counts())\n",
    "print('''\n",
    "Values of test set:''')\n",
    "print(pd.Series(y_test_predict).value_counts())"
   ]
  },
  {
   "cell_type": "code",
   "execution_count": 46,
   "id": "90f6a99b",
   "metadata": {},
   "outputs": [
    {
     "name": "stdout",
     "output_type": "stream",
     "text": [
      "The accuracy of the model on train set is: 0.74 \n",
      "The accuracy of the model on test set is: 0.72 \n",
      "Precision scores are (train, test):\n",
      "0.74\n",
      "0.68\n",
      "Recall scores are (train, test):\n",
      "0.74\n",
      "0.75\n",
      "F1 scores are (train, test):\n",
      "0.74\n",
      "0.71\n"
     ]
    }
   ],
   "source": [
    "print(\"The accuracy of the model on train set is: %4.2f \" % accuracy_score(y_train, y_train_predict))\n",
    "print(\"The accuracy of the model on test set is: %4.2f \" % accuracy_score(y_test, y_test_predict))\n",
    "print('Precision scores are (train, test):')\n",
    "print(round(precision_score(y_train, y_train_predict, pos_label = 'Yes'), 2))\n",
    "print(round(precision_score(y_test, y_test_predict, pos_label = 'Yes'), 2))\n",
    "print('Recall scores are (train, test):')\n",
    "print(round(recall_score(y_train, y_train_predict, pos_label = 'Yes'), 2))\n",
    "print(round(recall_score(y_test, y_test_predict, pos_label = 'Yes'), 2))\n",
    "print('F1 scores are (train, test):')\n",
    "print(round(f1_score(y_train, y_train_predict, pos_label = 'Yes'), 2))\n",
    "print(round(f1_score(y_test, y_test_predict, pos_label = 'Yes'), 2))\n",
    "#now it looks much better"
   ]
  },
  {
   "cell_type": "markdown",
   "id": "41a014ac",
   "metadata": {},
   "source": [
    "### Tomek Links "
   ]
  },
  {
   "cell_type": "code",
   "execution_count": 67,
   "id": "b6bc6cf4",
   "metadata": {},
   "outputs": [
    {
     "data": {
      "text/plain": [
       "No     4693\n",
       "Yes    1869\n",
       "Name: Churn, dtype: int64"
      ]
     },
     "execution_count": 67,
     "metadata": {},
     "output_type": "execute_result"
    }
   ],
   "source": [
    "t1 = TomekLinks()\n",
    "X_under, Y_under = t1.fit_resample(X, y)\n",
    "Y_under.value_counts()"
   ]
  },
  {
   "cell_type": "code",
   "execution_count": 68,
   "id": "45fb4034",
   "metadata": {},
   "outputs": [],
   "source": [
    "X_train, X_test, y_train, y_test = train_test_split(X_under, Y_under, test_size = 0.2, random_state = 10)\n",
    "classification = LogisticRegression(random_state = 0, solver = 'lbfgs',\n",
    "                  multi_class = 'ovr').fit(X_train, y_train)\n",
    "y_train_predict = classification.predict(X_train)\n",
    "y_test_predict = classification.predict(X_test)"
   ]
  },
  {
   "cell_type": "code",
   "execution_count": 69,
   "id": "4882903f",
   "metadata": {},
   "outputs": [
    {
     "name": "stdout",
     "output_type": "stream",
     "text": [
      "Values of train set:\n",
      "No     4106\n",
      "Yes    1143\n",
      "dtype: int64\n",
      "\n",
      "Values of test set:\n",
      "No     1030\n",
      "Yes     283\n",
      "dtype: int64\n"
     ]
    }
   ],
   "source": [
    "print('Values of train set:')\n",
    "print(pd.Series(y_train_predict).value_counts())\n",
    "print('''\n",
    "Values of test set:''')\n",
    "print(pd.Series(y_test_predict).value_counts())"
   ]
  },
  {
   "cell_type": "code",
   "execution_count": 70,
   "id": "d0ff2747",
   "metadata": {},
   "outputs": [
    {
     "name": "stdout",
     "output_type": "stream",
     "text": [
      "The accuracy of the model on train set is: 0.79 \n",
      "The accuracy of the model on test set is: 0.80 \n",
      "Precision scores are (train, test):\n",
      "0.67\n",
      "0.71\n",
      "Recall scores are (train, test):\n",
      "0.51\n",
      "0.53\n",
      "F1 scores are (train, test):\n",
      "0.58\n",
      "0.61\n"
     ]
    }
   ],
   "source": [
    "print(\"The accuracy of the model on train set is: %4.2f \" % accuracy_score(y_train, y_train_predict))\n",
    "print(\"The accuracy of the model on test set is: %4.2f \" % accuracy_score(y_test, y_test_predict))\n",
    "print('Precision scores are (train, test):')\n",
    "print(round(precision_score(y_train, y_train_predict, pos_label = 'Yes'), 2))\n",
    "print(round(precision_score(y_test, y_test_predict, pos_label = 'Yes'), 2))\n",
    "print('Recall scores are (train, test):')\n",
    "print(round(recall_score(y_train, y_train_predict, pos_label = 'Yes'), 2))\n",
    "print(round(recall_score(y_test, y_test_predict, pos_label = 'Yes'), 2))\n",
    "print('F1 scores are (train, test):')\n",
    "print(round(f1_score(y_train, y_train_predict, pos_label = 'Yes'), 2))\n",
    "print(round(f1_score(y_test, y_test_predict, pos_label = 'Yes'), 2))\n",
    "#gives low scores"
   ]
  },
  {
   "cell_type": "markdown",
   "id": "45ffc8a8",
   "metadata": {},
   "source": [
    "### Tomek Links With Oversampling"
   ]
  },
  {
   "cell_type": "code",
   "execution_count": 71,
   "id": "d7578603",
   "metadata": {},
   "outputs": [
    {
     "data": {
      "text/plain": [
       "No     4693\n",
       "Yes    4693\n",
       "Name: Churn, dtype: int64"
      ]
     },
     "execution_count": 71,
     "metadata": {},
     "output_type": "execute_result"
    }
   ],
   "source": [
    "#try to apply oversampling on Tomek Links\n",
    "ros = RandomOverSampler(random_state = 10)\n",
    "X_ros, Y_ros = ros.fit_resample(X_under, Y_under)\n",
    "Y_ros.value_counts()"
   ]
  },
  {
   "cell_type": "code",
   "execution_count": 75,
   "id": "489fc44d",
   "metadata": {},
   "outputs": [],
   "source": [
    "X_train, X_test, y_train, y_test = train_test_split(X_ros, Y_ros, test_size = 0.2, random_state = 10)\n",
    "classification = LogisticRegression(random_state = 0, solver = 'lbfgs',\n",
    "                  multi_class = 'ovr').fit(X_train, y_train)\n",
    "y_train_predict = classification.predict(X_train)\n",
    "y_test_predict = classification.predict(X_test)"
   ]
  },
  {
   "cell_type": "code",
   "execution_count": 77,
   "id": "e78e1bad",
   "metadata": {},
   "outputs": [
    {
     "name": "stdout",
     "output_type": "stream",
     "text": [
      "Values of train set:\n",
      "Yes    3766\n",
      "No     3742\n",
      "dtype: int64\n",
      "\n",
      "Values of test set:\n",
      "No     944\n",
      "Yes    934\n",
      "dtype: int64\n"
     ]
    }
   ],
   "source": [
    "print('Values of train set:')\n",
    "print(pd.Series(y_train_predict).value_counts())\n",
    "print('''\n",
    "Values of test set:''')\n",
    "print(pd.Series(y_test_predict).value_counts())"
   ]
  },
  {
   "cell_type": "code",
   "execution_count": 76,
   "id": "4d716f04",
   "metadata": {},
   "outputs": [
    {
     "name": "stdout",
     "output_type": "stream",
     "text": [
      "The accuracy of the model on train set is: 0.76 \n",
      "The accuracy of the model on test set is: 0.75 \n",
      "Precision scores are (train, test):\n",
      "0.76\n",
      "0.74\n",
      "Recall scores are (train, test):\n",
      "0.76\n",
      "0.76\n",
      "F1 scores are (train, test):\n",
      "0.76\n",
      "0.75\n"
     ]
    }
   ],
   "source": [
    "print(\"The accuracy of the model on train set is: %4.2f \" % accuracy_score(y_train, y_train_predict))\n",
    "print(\"The accuracy of the model on test set is: %4.2f \" % accuracy_score(y_test, y_test_predict))\n",
    "print('Precision scores are (train, test):')\n",
    "print(round(precision_score(y_train, y_train_predict, pos_label = 'Yes'), 2))\n",
    "print(round(precision_score(y_test, y_test_predict, pos_label = 'Yes'), 2))\n",
    "print('Recall scores are (train, test):')\n",
    "print(round(recall_score(y_train, y_train_predict, pos_label = 'Yes'), 2))\n",
    "print(round(recall_score(y_test, y_test_predict, pos_label = 'Yes'), 2))\n",
    "print('F1 scores are (train, test):')\n",
    "print(round(f1_score(y_train, y_train_predict, pos_label = 'Yes'), 2))\n",
    "print(round(f1_score(y_test, y_test_predict, pos_label = 'Yes'), 2))\n",
    "#now the scores are even higher than in case of undersampling"
   ]
  },
  {
   "cell_type": "code",
   "execution_count": 81,
   "id": "c85e278c",
   "metadata": {},
   "outputs": [
    {
     "name": "stdout",
     "output_type": "stream",
     "text": [
      "Confusion matrix on train set:\n"
     ]
    },
    {
     "data": {
      "image/png": "[encoded data removed]",
      "text/plain": [
       "<Figure size 432x288 with 2 Axes>"
      ]
     },
     "metadata": {
      "needs_background": "light"
     },
     "output_type": "display_data"
    },
    {
     "name": "stdout",
     "output_type": "stream",
     "text": [
      "Confusion matrix on test set:\n"
     ]
    },
    {
     "data": {
      "image/png": "[encoded data removed]",
      "text/plain": [
       "<Figure size 432x288 with 2 Axes>"
      ]
     },
     "metadata": {
      "needs_background": "light"
     },
     "output_type": "display_data"
    }
   ],
   "source": [
    "#visualize on matrix\n",
    "print('Confusion matrix on train set:')\n",
    "plot_confusion_matrix(classification, X_train, y_train, cmap='OrRd')\n",
    "plt.show() \n",
    "print('Confusion matrix on test set:')\n",
    "plot_confusion_matrix(classification, X_test, y_test)\n",
    "plt.show()\n",
    "#compared to the first prediction there is a visible improvement"
   ]
  },
  {
   "cell_type": "markdown",
   "id": "e80c00b0",
   "metadata": {},
   "source": [
    "### Data Oversampling "
   ]
  },
  {
   "cell_type": "code",
   "execution_count": 53,
   "id": "0e944eba",
   "metadata": {},
   "outputs": [
    {
     "data": {
      "text/plain": [
       "No     5174\n",
       "Yes    5174\n",
       "Name: Churn, dtype: int64"
      ]
     },
     "execution_count": 53,
     "metadata": {},
     "output_type": "execute_result"
    }
   ],
   "source": [
    "ros = RandomOverSampler(random_state = 10)\n",
    "X_ros, Y_ros = ros.fit_resample(X, y)\n",
    "Y_ros.value_counts()"
   ]
  },
  {
   "cell_type": "code",
   "execution_count": 54,
   "id": "10aa8165",
   "metadata": {},
   "outputs": [],
   "source": [
    "X_train, X_test, y_train, y_test = train_test_split(X_ros, Y_ros, test_size = 0.2, random_state = 10)\n",
    "classification = LogisticRegression(random_state = 0, solver = 'lbfgs',\n",
    "                  multi_class = 'ovr').fit(X_train, y_train)\n",
    "y_train_predict = classification.predict(X_train)\n",
    "y_test_predict = classification.predict(X_test)"
   ]
  },
  {
   "cell_type": "code",
   "execution_count": 55,
   "id": "8979847e",
   "metadata": {},
   "outputs": [
    {
     "name": "stdout",
     "output_type": "stream",
     "text": [
      "Values of train set:\n",
      "Yes    4228\n",
      "No     4050\n",
      "dtype: int64\n",
      "\n",
      "Values of test set:\n",
      "No     1035\n",
      "Yes    1035\n",
      "dtype: int64\n"
     ]
    }
   ],
   "source": [
    "print('Values of train set:')\n",
    "print(pd.Series(y_train_predict).value_counts())\n",
    "print('''\n",
    "Values of test set:''')\n",
    "print(pd.Series(y_test_predict).value_counts())"
   ]
  },
  {
   "cell_type": "code",
   "execution_count": 56,
   "id": "4e4fa75d",
   "metadata": {},
   "outputs": [
    {
     "name": "stdout",
     "output_type": "stream",
     "text": [
      "The accuracy of the model on train set is: 0.74 \n",
      "The accuracy of the model on test set is: 0.73 \n",
      "Precision scores are (train, test):\n",
      "0.73\n",
      "0.72\n",
      "Recall scores are (train, test):\n",
      "0.75\n",
      "0.73\n",
      "F1 scores are (train, test):\n",
      "0.74\n",
      "0.72\n"
     ]
    }
   ],
   "source": [
    "print(\"The accuracy of the model on train set is: %4.2f \" % accuracy_score(y_train, y_train_predict))\n",
    "print(\"The accuracy of the model on test set is: %4.2f \" % accuracy_score(y_test, y_test_predict))\n",
    "print('Precision scores are (train, test):')\n",
    "print(round(precision_score(y_train, y_train_predict, pos_label = 'Yes'), 2))\n",
    "print(round(precision_score(y_test, y_test_predict, pos_label = 'Yes'), 2))\n",
    "print('Recall scores are (train, test):')\n",
    "print(round(recall_score(y_train, y_train_predict, pos_label = 'Yes'), 2))\n",
    "print(round(recall_score(y_test, y_test_predict, pos_label = 'Yes'), 2))\n",
    "print('F1 scores are (train, test):')\n",
    "print(round(f1_score(y_train, y_train_predict, pos_label = 'Yes'), 2))\n",
    "print(round(f1_score(y_test, y_test_predict, pos_label = 'Yes'), 2))"
   ]
  },
  {
   "cell_type": "markdown",
   "id": "5bfc9ce1",
   "metadata": {},
   "source": [
    "### SMOTE Oversampling"
   ]
  },
  {
   "cell_type": "code",
   "execution_count": 63,
   "id": "44031a87",
   "metadata": {},
   "outputs": [
    {
     "data": {
      "text/plain": [
       "No     5174\n",
       "Yes    5174\n",
       "Name: Churn, dtype: int64"
      ]
     },
     "execution_count": 63,
     "metadata": {},
     "output_type": "execute_result"
    }
   ],
   "source": [
    "sm = SMOTE(random_state = 42)\n",
    "X_sm, Y_sm = sm.fit_resample(X, y)\n",
    "Y_sm.value_counts()"
   ]
  },
  {
   "cell_type": "code",
   "execution_count": 64,
   "id": "c3f36112",
   "metadata": {},
   "outputs": [],
   "source": [
    "X_train, X_test, y_train, y_test = train_test_split(X_sm, Y_sm, test_size = 0.2, random_state = 10)\n",
    "classification = LogisticRegression(random_state = 0, solver = 'lbfgs',\n",
    "                  multi_class = 'ovr').fit(X_train, y_train)\n",
    "y_train_predict = classification.predict(X_train)\n",
    "y_test_predict = classification.predict(X_test)"
   ]
  },
  {
   "cell_type": "code",
   "execution_count": 66,
   "id": "43b98b76",
   "metadata": {},
   "outputs": [
    {
     "name": "stdout",
     "output_type": "stream",
     "text": [
      "Values of train set:\n",
      "Yes    4214\n",
      "No     4064\n",
      "dtype: int64\n",
      "\n",
      "Values of test set:\n",
      "No     1051\n",
      "Yes    1019\n",
      "dtype: int64\n"
     ]
    }
   ],
   "source": [
    "print('Values of train set:')\n",
    "print(pd.Series(y_train_predict).value_counts())\n",
    "print('''\n",
    "Values of test set:''')\n",
    "print(pd.Series(y_test_predict).value_counts())"
   ]
  },
  {
   "cell_type": "code",
   "execution_count": 65,
   "id": "472708c3",
   "metadata": {},
   "outputs": [
    {
     "name": "stdout",
     "output_type": "stream",
     "text": [
      "The accuracy of the model on train set is: 0.74 \n",
      "The accuracy of the model on test set is: 0.72 \n",
      "Precision scores are (train, test):\n",
      "0.73\n",
      "0.71\n",
      "Recall scores are (train, test):\n",
      "0.74\n",
      "0.72\n",
      "F1 scores are (train, test):\n",
      "0.74\n",
      "0.72\n"
     ]
    }
   ],
   "source": [
    "print(\"The accuracy of the model on train set is: %4.2f \" % accuracy_score(y_train, y_train_predict))\n",
    "print(\"The accuracy of the model on test set is: %4.2f \" % accuracy_score(y_test, y_test_predict))\n",
    "print('Precision scores are (train, test):')\n",
    "print(round(precision_score(y_train, y_train_predict, pos_label = 'Yes'), 2))\n",
    "print(round(precision_score(y_test, y_test_predict, pos_label = 'Yes'), 2))\n",
    "print('Recall scores are (train, test):')\n",
    "print(round(recall_score(y_train, y_train_predict, pos_label = 'Yes'), 2))\n",
    "print(round(recall_score(y_test, y_test_predict, pos_label = 'Yes'), 2))\n",
    "print('F1 scores are (train, test):')\n",
    "print(round(f1_score(y_train, y_train_predict, pos_label = 'Yes'), 2))\n",
    "print(round(f1_score(y_test, y_test_predict, pos_label = 'Yes'), 2))"
   ]
  },
  {
   "cell_type": "markdown",
   "id": "25b8a950",
   "metadata": {},
   "source": [
    "#### 7. Even a simple model will give us more than 70% accuracy. Why?\n"
   ]
  },
  {
   "cell_type": "markdown",
   "id": "8a8b8770",
   "metadata": {},
   "source": [
    "\"..in the framework of imbalanced data-sets, accuracy is no longer a proper measure, since it does not distinguish between the numbers of correctly classified examples of different classes.\"\n",
    "\n",
    "As accuracy is not the only metrics of prediction, the score doesn't tell us much about the model.\n",
    "In case with imbalanced data, we see that accuracy score is quite high. However the other metrics (recall, precision and f1) show us that the prediction is not good."
   ]
  },
  {
   "cell_type": "markdown",
   "id": "2879c2bd",
   "metadata": {},
   "source": [
    "#### 8. Synthetic Minority Oversampling TEchnique (SMOTE) is an over sampling technique based on nearest neighbors that adds new points between existing points. Apply imblearn.over_sampling.SMOTE to the dataset. Build and evaluate the logistic regression model. Is it there any improvement?\n"
   ]
  },
  {
   "cell_type": "markdown",
   "id": "bce02fc8",
   "metadata": {},
   "source": [
    "There is a noticeable improvement on scores when applying SMOTE oversampling. Despite the fact, that the number of values are the same with RandomOversampler, SMOTE showed scores slightly lower."
   ]
  },
  {
   "cell_type": "markdown",
   "id": "de6acfaa",
   "metadata": {},
   "source": [
    "#### 9. Tomek links are pairs of very close instances, but of opposite classes. Removing the instances of the majority class of each pair increases the space between the two classes, facilitating the classification process. Apply imblearn.under_sampling.TomekLinks to the dataset. Build and evaluate the logistic regression model. Is it there any improvement?"
   ]
  },
  {
   "cell_type": "markdown",
   "id": "cc130bc9",
   "metadata": {},
   "source": [
    "After applying Tomek Links, the number of values didn't change so much (compared to other cases). The scores were almost the same with the prediction of imbalanced data. \n",
    "\n",
    "I decided to apply RandomOversampler on Tomek Links and got the scores that were the highest among all applied."
   ]
  }
 ],
 "metadata": {
  "kernelspec": {
   "display_name": "Python 3 (ipykernel)",
   "language": "python",
   "name": "python3"
  },
  "language_info": {
   "codemirror_mode": {
    "name": "ipython",
    "version": 3
   },
   "file_extension": ".py",
   "mimetype": "text/x-python",
   "name": "python",
   "nbconvert_exporter": "python",
   "pygments_lexer": "ipython3",
   "version": "3.9.7"
  }
 },
 "nbformat": 4,
 "nbformat_minor": 5
}
